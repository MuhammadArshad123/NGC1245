{
 "cells": [
  {
   "cell_type": "code",
   "execution_count": 29,
   "metadata": {},
   "outputs": [],
   "source": [
    "import numpy as np\n",
    "import pandas as pd\n",
    "import matplotlib.pyplot as plt"
   ]
  },
  {
   "cell_type": "code",
   "execution_count": 30,
   "metadata": {},
   "outputs": [
    {
     "data": {
      "text/html": [
       "<div>\n",
       "<style scoped>\n",
       "    .dataframe tbody tr th:only-of-type {\n",
       "        vertical-align: middle;\n",
       "    }\n",
       "\n",
       "    .dataframe tbody tr th {\n",
       "        vertical-align: top;\n",
       "    }\n",
       "\n",
       "    .dataframe thead th {\n",
       "        text-align: right;\n",
       "    }\n",
       "</style>\n",
       "<table border=\"1\" class=\"dataframe\">\n",
       "  <thead>\n",
       "    <tr style=\"text-align: right;\">\n",
       "      <th></th>\n",
       "      <th>starNumber</th>\n",
       "      <th>B</th>\n",
       "      <th>V</th>\n",
       "      <th>B-V</th>\n",
       "      <th>V_corrected</th>\n",
       "      <th>B-V_corrected</th>\n",
       "      <th>spectral_type</th>\n",
       "    </tr>\n",
       "  </thead>\n",
       "  <tbody>\n",
       "    <tr>\n",
       "      <th>0</th>\n",
       "      <td>3</td>\n",
       "      <td>11.673</td>\n",
       "      <td>10.964</td>\n",
       "      <td>0.709</td>\n",
       "      <td>10.004</td>\n",
       "      <td>0.409</td>\n",
       "      <td>F</td>\n",
       "    </tr>\n",
       "    <tr>\n",
       "      <th>1</th>\n",
       "      <td>5</td>\n",
       "      <td>12.705</td>\n",
       "      <td>11.768</td>\n",
       "      <td>0.937</td>\n",
       "      <td>10.808</td>\n",
       "      <td>0.637</td>\n",
       "      <td>G</td>\n",
       "    </tr>\n",
       "    <tr>\n",
       "      <th>2</th>\n",
       "      <td>6</td>\n",
       "      <td>13.204</td>\n",
       "      <td>12.029</td>\n",
       "      <td>1.175</td>\n",
       "      <td>11.069</td>\n",
       "      <td>0.875</td>\n",
       "      <td>K</td>\n",
       "    </tr>\n",
       "    <tr>\n",
       "      <th>3</th>\n",
       "      <td>7</td>\n",
       "      <td>12.707</td>\n",
       "      <td>12.440</td>\n",
       "      <td>0.267</td>\n",
       "      <td>11.480</td>\n",
       "      <td>-0.033</td>\n",
       "      <td>B</td>\n",
       "    </tr>\n",
       "    <tr>\n",
       "      <th>4</th>\n",
       "      <td>9</td>\n",
       "      <td>14.188</td>\n",
       "      <td>13.489</td>\n",
       "      <td>0.699</td>\n",
       "      <td>12.529</td>\n",
       "      <td>0.399</td>\n",
       "      <td>F</td>\n",
       "    </tr>\n",
       "  </tbody>\n",
       "</table>\n",
       "</div>"
      ],
      "text/plain": [
       "   starNumber       B       V    B-V  V_corrected  B-V_corrected spectral_type\n",
       "0           3  11.673  10.964  0.709       10.004          0.409             F\n",
       "1           5  12.705  11.768  0.937       10.808          0.637             G\n",
       "2           6  13.204  12.029  1.175       11.069          0.875             K\n",
       "3           7  12.707  12.440  0.267       11.480         -0.033             B\n",
       "4           9  14.188  13.489  0.699       12.529          0.399             F"
      ]
     },
     "execution_count": 30,
     "metadata": {},
     "output_type": "execute_result"
    }
   ],
   "source": [
    "file = \"data/ngc1245.csv\"\n",
    "df = pd.read_csv(file)\n",
    "df.drop(columns=['Unnamed: 0'], inplace=True)\n",
    "df.head()"
   ]
  },
  {
   "cell_type": "code",
   "execution_count": 36,
   "metadata": {},
   "outputs": [],
   "source": [
    "def distanceModulus(m, M): # m = apparent V magnitude, M = absolute magnitude of star with similar B-V color\n",
    "    return 10.0 ** ((m - M + 5.0) / 5.0)"
   ]
  },
  {
   "cell_type": "code",
   "execution_count": 32,
   "metadata": {},
   "outputs": [
    {
     "name": "stdout",
     "output_type": "stream",
     "text": [
      "0.23299999999999946 0.4070000000000007\n"
     ]
    }
   ],
   "source": [
    "AStars = df[df['spectral_type'] == 'A']\n",
    "FStars = df[df['spectral_type'] == 'F']\n",
    "# Calculate the mode, median, and mean for B-V_corrected\n",
    "median_A = np.median(AStars['B-V_corrected'])\n",
    "median_F = np.median(FStars['B-V_corrected'])\n",
    "print(median_A, median_F)"
   ]
  },
  {
   "cell_type": "code",
   "execution_count": 35,
   "metadata": {},
   "outputs": [],
   "source": [
    "from matplotlib.backends.backend_pdf import PdfPages\n",
    "\n",
    "# Create a PDF file to save the plots\n",
    "pdf_pages = PdfPages('B_V-Distributions-A_F-Types.pdf')\n",
    "\n",
    "# Plot for A-type Stars\n",
    "plt.figure(figsize=(10, 6))\n",
    "plt.hist(AStars['B-V_corrected'], bins=40, color='skyblue', edgecolor='black')\n",
    "plt.xlabel('B-V Corrected')\n",
    "plt.ylabel('Frequency')\n",
    "plt.title('Distribution of B-V Corrected for A-type Stars')\n",
    "plt.grid(True)\n",
    "\n",
    "# Save the current plot to the PDF file\n",
    "pdf_pages.savefig()\n",
    "\n",
    "# Close the current plot\n",
    "plt.close()\n",
    "\n",
    "# Plot for F-type Stars\n",
    "plt.figure(figsize=(10, 6))\n",
    "plt.hist(FStars['B-V_corrected'], bins=40, color='skyblue', edgecolor='black')\n",
    "plt.xlabel('B-V Corrected')\n",
    "plt.ylabel('Frequency')\n",
    "plt.title('Distribution of B-V Corrected for F-type Stars')\n",
    "plt.grid(True)\n",
    "\n",
    "# Save the current plot to the PDF file\n",
    "pdf_pages.savefig()\n",
    "\n",
    "# Close the current plot\n",
    "plt.close()\n",
    "\n",
    "# Close the PDF file\n",
    "pdf_pages.close()"
   ]
  },
  {
   "cell_type": "code",
   "execution_count": 37,
   "metadata": {},
   "outputs": [
    {
     "data": {
      "text/plain": [
       "2324.877101501645"
      ]
     },
     "execution_count": 37,
     "metadata": {},
     "output_type": "execute_result"
    }
   ],
   "source": [
    "distanceModulus(12.732,0.9) #NGC-1245-12 and Aquarius 19 (NGC-1245-12 is the 12th star in NGC-1245)"
   ]
  },
  {
   "cell_type": "code",
   "execution_count": null,
   "metadata": {},
   "outputs": [],
   "source": []
  },
  {
   "cell_type": "code",
   "execution_count": null,
   "metadata": {},
   "outputs": [],
   "source": [
    "#Altair Calculation for A-Type stars\n",
    "AMags = "
   ]
  },
  {
   "cell_type": "markdown",
   "metadata": {},
   "source": [
    "# Reference Stars\n",
    "Procyon (B_V = 0.42, AbsMagb =2.68 ) for the MEDIAN star\n",
    "Aquarius 19 for TURN-OFF star\n",
    "Altair (B-V = 0.22, AbsMag = 2.22)"
   ]
  }
 ],
 "metadata": {
  "kernelspec": {
   "display_name": "base",
   "language": "python",
   "name": "python3"
  },
  "language_info": {
   "codemirror_mode": {
    "name": "ipython",
    "version": 3
   },
   "file_extension": ".py",
   "mimetype": "text/x-python",
   "name": "python",
   "nbconvert_exporter": "python",
   "pygments_lexer": "ipython3",
   "version": "3.11.3"
  },
  "orig_nbformat": 4
 },
 "nbformat": 4,
 "nbformat_minor": 2
}
